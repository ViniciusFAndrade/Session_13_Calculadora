{
 "cells": [
  {
   "cell_type": "code",
   "execution_count": 35,
   "metadata": {},
   "outputs": [],
   "source": [
    "class calculadora:\n",
    "\n",
    "    def multiplicar(self,num1,num2):\n",
    "        return num1 * num2\n",
    "            \n",
    "    def dividir(self,num1,num2):\n",
    "        return num1 / num2\n",
    "\n",
    "    def somar(self,num1,num2):\n",
    "        return num1 + num2\n",
    "\n",
    "    def subtrair(self,num1,num2):\n",
    "        return num1 - num2\n",
    "\n",
    "    def potencia(self,num1,num2):\n",
    "        return num1 ** num2\n",
    "\n",
    "    def raiz(self,num1,num2):\n",
    "        return num1**(1/num2)"
   ]
  },
  {
   "cell_type": "code",
   "execution_count": 38,
   "metadata": {},
   "outputs": [
    {
     "data": {
      "text/plain": [
       "8"
      ]
     },
     "execution_count": 38,
     "metadata": {},
     "output_type": "execute_result"
    }
   ],
   "source": [
    "calculadora().somar(3,5) #exemplo1"
   ]
  },
  {
   "cell_type": "code",
   "execution_count": 39,
   "metadata": {},
   "outputs": [
    {
     "data": {
      "text/plain": [
       "81"
      ]
     },
     "execution_count": 39,
     "metadata": {},
     "output_type": "execute_result"
    }
   ],
   "source": [
    "calculadora().potencia(3,4) #exemplo2"
   ]
  },
  {
   "cell_type": "code",
   "execution_count": null,
   "metadata": {},
   "outputs": [],
   "source": []
  }
 ],
 "metadata": {
  "anaconda-cloud": {},
  "kernelspec": {
   "display_name": "Python 3",
   "language": "python",
   "name": "python3"
  },
  "language_info": {
   "codemirror_mode": {
    "name": "ipython",
    "version": 3
   },
   "file_extension": ".py",
   "mimetype": "text/x-python",
   "name": "python",
   "nbconvert_exporter": "python",
   "pygments_lexer": "ipython3",
   "version": "3.7.3"
  }
 },
 "nbformat": 4,
 "nbformat_minor": 1
}
